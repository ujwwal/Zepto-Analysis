{
 "cells": [
  {
   "cell_type": "code",
   "execution_count": null,
   "metadata": {},
   "outputs": [],
   "source": [
    "#importing the values\n",
    "import pandas as pd"
   ]
  },
  {
   "cell_type": "code",
   "execution_count": 2,
   "metadata": {},
   "outputs": [
    {
     "name": "stdout",
     "output_type": "stream",
     "text": [
      "              Category              name   mrp  discountPercent  \\\n",
      "0  Fruits & Vegetables             Onion  2500               16   \n",
      "1  Fruits & Vegetables     Tomato Hybrid  4200               16   \n",
      "2  Fruits & Vegetables    Tender Coconut  5100               15   \n",
      "3  Fruits & Vegetables  Coriander Leaves  2000               15   \n",
      "4  Fruits & Vegetables    Ladies Finger   1400               14   \n",
      "\n",
      "   availableQuantity  discountedSellingPrice  weightInGms  outOfStock  \\\n",
      "0                  3                    2100         1000       False   \n",
      "1                  3                    3500         1000       False   \n",
      "2                  3                    4300           58       False   \n",
      "3                  3                    1700          100       False   \n",
      "4                  3                    1200          250       False   \n",
      "\n",
      "   quantity  \n",
      "0         1  \n",
      "1         1  \n",
      "2         1  \n",
      "3       100  \n",
      "4       250  \n"
     ]
    }
   ],
   "source": [
    "#importing the dataset\n",
    "df = pd.read_csv(\"zepto_v2.csv\",encoding='ISO-8859-1')\n",
    "print(df.head())"
   ]
  }
 ],
 "metadata": {
  "kernelspec": {
   "display_name": "Python 3",
   "language": "python",
   "name": "python3"
  },
  "language_info": {
   "codemirror_mode": {
    "name": "ipython",
    "version": 3
   },
   "file_extension": ".py",
   "mimetype": "text/x-python",
   "name": "python",
   "nbconvert_exporter": "python",
   "pygments_lexer": "ipython3",
   "version": "3.13.1"
  }
 },
 "nbformat": 4,
 "nbformat_minor": 2
}
